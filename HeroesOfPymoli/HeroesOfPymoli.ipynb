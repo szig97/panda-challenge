{
 "cells": [
  {
   "cell_type": "code",
   "execution_count": null,
   "metadata": {},
   "outputs": [],
   "source": [
    "# Dependencies and Setup\n",
    "import pandas as pd\n",
    "\n",
    "# File to Load (Remember to Change These)\n",
    "file_to_load = \"Resources/purchase_data.csv\"\n",
    "\n",
    "# Read Purchasing File and store into Pandas data frame\n",
    "purchase_data = pd.read_csv(file_to_load)"
   ]
  },
  {
   "cell_type": "markdown",
   "metadata": {},
   "source": [
    "# Player Count\n",
    " \n",
    "- Display the total number of players"
   ]
  },
  {
   "cell_type": "code",
   "execution_count": null,
   "metadata": {},
   "outputs": [],
   "source": []
  },
  {
   "cell_type": "markdown",
   "metadata": {},
   "source": [
    "# Purchasing Analysis (Total)\n",
    " \n",
    "- Run basic calculations to obtain number of unique items, average price, etc.\n",
    "\n",
    "- Create a summary data frame to hold the results\n",
    "\n",
    "- Optional: give the displayed data cleaner formatting\n",
    "\n",
    "- Display the summary data frame"
   ]
  },
  {
   "cell_type": "code",
   "execution_count": null,
   "metadata": {},
   "outputs": [],
   "source": []
  },
  {
   "cell_type": "markdown",
   "metadata": {},
   "source": [
    "# Gender Demographics\n",
    " \n",
    "- Percentage and Count of Male Players\n",
    "\n",
    "- Percentage and Count of Female Players\n",
    "\n",
    "- Percentage and Count of Other / Non-Disclosed"
   ]
  },
  {
   "cell_type": "code",
   "execution_count": null,
   "metadata": {},
   "outputs": [],
   "source": []
  },
  {
   "cell_type": "markdown",
   "metadata": {},
   "source": [
    "# Purchasing Analysis (Gender)\n",
    " \n",
    "- Run basic calculations to obtain purchase count, avg. purchase price, avg. purchase total per person etc. by gender\n",
    "\n",
    "- Create a summary data frame to hold the results\n",
    "\n",
    "- Optional: give the displayed data cleaner formatting\n",
    "\n",
    "- Display the summary data frame"
   ]
  },
  {
   "cell_type": "code",
   "execution_count": null,
   "metadata": {},
   "outputs": [],
   "source": []
  },
  {
   "cell_type": "markdown",
   "metadata": {},
   "source": [
    "# Age Demographics\n",
    " \n",
    "- Establish bins for ages\n",
    "\n",
    "- Categorize the existing players using the age bins. Hint: use pd.cut()\n",
    "\n",
    "- Calculate the numbers and percentages by age group\n",
    "\n",
    "- Create a summary data frame to hold the results\n",
    "\n",
    "- Optional: round the percentage column to two decimal points\n",
    "\n",
    "- Display Age Demographics Table"
   ]
  },
  {
   "cell_type": "code",
   "execution_count": null,
   "metadata": {},
   "outputs": [],
   "source": []
  },
  {
   "cell_type": "markdown",
   "metadata": {},
   "source": [
    "# Purchasing Analysis (Age)\n",
    " \n",
    "- Bin the purchase_data data frame by age\n",
    "\n",
    "- Run basic calculations to obtain purchase count, avg. purchase price, avg. purchase total per person etc. in the table below\n",
    "\n",
    "- Create a summary data frame to hold the results\n",
    "\n",
    "- Optional: give the displayed data cleaner formatting\n",
    "\n",
    "- Display the summary data frame"
   ]
  },
  {
   "cell_type": "code",
   "execution_count": null,
   "metadata": {},
   "outputs": [],
   "source": []
  },
  {
   "cell_type": "markdown",
   "metadata": {},
   "source": [
    "# Top Spenders\n",
    " \n",
    "- Run basic calculations to obtain the results in the table below\n",
    "\n",
    "- Create a summary data frame to hold the results\n",
    "\n",
    "- Sort the total purchase value column in descending order\n",
    "\n",
    "- Optional: give the displayed data cleaner formatting\n",
    "\n",
    "- Display a preview of the summary data frame"
   ]
  },
  {
   "cell_type": "code",
   "execution_count": null,
   "metadata": {},
   "outputs": [],
   "source": []
  },
  {
   "cell_type": "markdown",
   "metadata": {},
   "source": [
    "# Most Popular Items\n",
    " \n",
    "- Retrieve the Item ID, Item Name, and Item Price columns\n",
    "\n",
    "- Group by Item ID and Item Name. Perform calculations to obtain purchase count, average item price, and total purchase value\n",
    "\n",
    "- Create a summary data frame to hold the results\n",
    "\n",
    "- Sort the purchase count column in descending order\n",
    "\n",
    "- Optional: give the displayed data cleaner formatting\n",
    "\n",
    "- Display a preview of the summary data frame"
   ]
  },
  {
   "cell_type": "code",
   "execution_count": null,
   "metadata": {},
   "outputs": [],
   "source": []
  },
  {
   "cell_type": "markdown",
   "metadata": {},
   "source": [
    "# Most Profitable Items\n",
    " \n",
    "- Sort the above table by total purchase value in descending order\n",
    "\n",
    "- Optional: give the displayed data cleaner formatting\n",
    "\n",
    "- Display a preview of the data frame"
   ]
  },
  {
   "cell_type": "code",
   "execution_count": null,
   "metadata": {},
   "outputs": [],
   "source": []
  }
 ],
 "metadata": {
  "kernelspec": {
   "display_name": "Python 3",
   "language": "python",
   "name": "python3"
  },
  "language_info": {
   "codemirror_mode": {
    "name": "ipython",
    "version": 3
   },
   "file_extension": ".py",
   "mimetype": "text/x-python",
   "name": "python",
   "nbconvert_exporter": "python",
   "pygments_lexer": "ipython3",
   "version": "3.6.10"
  }
 },
 "nbformat": 4,
 "nbformat_minor": 4
}
